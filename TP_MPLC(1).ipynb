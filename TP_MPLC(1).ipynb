{
  "cells": [
    {
      "cell_type": "markdown",
      "id": "001e883c",
      "metadata": {
        "id": "001e883c"
      },
      "source": [
        "# **Apprentissage par perceptron multi-couches sous sklearn**\n",
        "\n",
        "\n"
      ]
    },
    {
      "cell_type": "markdown",
      "id": "e5315fe4",
      "metadata": {
        "id": "e5315fe4"
      },
      "source": [
        "### 1.2.1 Prise en main du modele :"
      ]
    },
    {
      "cell_type": "markdown",
      "id": "058637f7",
      "metadata": {
        "id": "058637f7"
      },
      "source": [
        "- 1. Soit le jeu de donnees S = {([0, 0], 0), ([0, 1], 1)}. Nous cherchons a apprendre un modele f(x) : R² --> {0, 1} qui, a chaque exemple, associe une sortie booleenne. Creez ce jeu de donnees (X et y) en utilisant les tableaux de numpy."
      ]
    },
    {
      "cell_type": "code",
      "execution_count": 7,
      "id": "f1a581fb",
      "metadata": {
        "id": "f1a581fb"
      },
      "outputs": [],
      "source": [
        "import numpy as np \n",
        "from sklearn.neural_network import MLPClassifier\n",
        "import warnings\n",
        "warnings.filterwarnings (\"ignore\")"
      ]
    },
    {
      "cell_type": "code",
      "execution_count": 8,
      "id": "cfcb47fb",
      "metadata": {
        "colab": {
          "base_uri": "https://localhost:8080/"
        },
        "id": "cfcb47fb",
        "outputId": "08984be9-0ef4-4b8f-d866-1a21187e2402"
      },
      "outputs": [
        {
          "output_type": "stream",
          "name": "stdout",
          "text": [
            "Les entrées sont :\n",
            " [[0 0]\n",
            " [0 1]]\n",
            "Les sorties attendues sont : \n",
            " [[0]\n",
            " [1]]\n"
          ]
        }
      ],
      "source": [
        "# Définir les entrées\n",
        "X = np.array([[0,0],\n",
        "              [0,1]])\n",
        "print('Les entrées sont :\\n', X)\n",
        "\n",
        "# Définir les sorties attendues\n",
        "y = np.array([[0], [1]])\n",
        "print('Les sorties attendues sont : \\n', y)"
      ]
    },
    {
      "cell_type": "markdown",
      "id": "3af4d369",
      "metadata": {
        "id": "3af4d369"
      },
      "source": [
        "- 2. Creez un modele MLP de classification avec une couche cachee de 4 neurones : dessinez ce modele sur feuille, cr´eez le avec MLPClassifier, puis apprenez le avec S, et testez le avec les entrees [2.,2.], puis [-1.,-2.]. A l’aide des coefficients appris, completez le dessin du MLP et verifiez la sortie manuellement."
      ]
    },
    {
      "cell_type": "code",
      "execution_count": 9,
      "id": "cdb42848",
      "metadata": {
        "id": "cdb42848"
      },
      "outputs": [],
      "source": [
        "X_test_1 = np.array([[2,2]])\n",
        "X_test_2 = np.array([[-1,-2]])\n",
        "clf = MLPClassifier(hidden_layer_sizes=4,random_state=1, max_iter=500).fit(X, y)"
      ]
    },
    {
      "cell_type": "code",
      "execution_count": 10,
      "id": "a6c42738",
      "metadata": {
        "colab": {
          "base_uri": "https://localhost:8080/"
        },
        "id": "a6c42738",
        "outputId": "8c67766e-7f19-4411-bf8b-205bb187a591"
      },
      "outputs": [
        {
          "output_type": "execute_result",
          "data": {
            "text/plain": [
              "array([0])"
            ]
          },
          "metadata": {},
          "execution_count": 10
        }
      ],
      "source": [
        "clf.predict(X_test_1)"
      ]
    },
    {
      "cell_type": "code",
      "execution_count": 11,
      "id": "8ba6b14f",
      "metadata": {
        "id": "8ba6b14f",
        "colab": {
          "base_uri": "https://localhost:8080/"
        },
        "outputId": "277159e0-7989-4206-ae91-bef75eb9545c"
      },
      "outputs": [
        {
          "output_type": "execute_result",
          "data": {
            "text/plain": [
              "array([0])"
            ]
          },
          "metadata": {},
          "execution_count": 11
        }
      ],
      "source": [
        "clf.predict(X_test_2)"
      ]
    },
    {
      "cell_type": "markdown",
      "id": "23a846ae",
      "metadata": {
        "id": "23a846ae"
      },
      "source": [
        "- 3. Completez S en ajoutant les exemples ([1, 1], 0) et ([1, 0], 1). Il s’agit du probleme du XOR.Apprenez les deux reseaux dont l’architecture a été presentee en cours avec des perceptrons lineaires a seuil. Les predictions des reseaux obtenus sont-elles correctes ? Quels sont les coefficients et biais obtenus ?"
      ]
    },
    {
      "cell_type": "code",
      "execution_count": 12,
      "id": "b6a021f7",
      "metadata": {
        "id": "b6a021f7"
      },
      "outputs": [],
      "source": [
        "# completer S avec ([1, 1], 0) et ([1, 0], 1) \n",
        "X = np.array([[0,0],\n",
        "              [0,1],\n",
        "              [1,1],\n",
        "              [1,0]])"
      ]
    },
    {
      "cell_type": "code",
      "execution_count": 12,
      "id": "b0c149c2",
      "metadata": {
        "id": "b0c149c2"
      },
      "outputs": [],
      "source": []
    },
    {
      "cell_type": "markdown",
      "id": "8367986c",
      "metadata": {
        "id": "8367986c"
      },
      "source": [
        "- 4. Soit S' = {([0, 0], [0, 1]), ([1, 1], [1, 1])}. Nous cherchons a apprendre un modele f(x) : R2 ! {0, 1}² qui, a chaque exemple, associe deux sorties booleennes distinctes. Au vu de S', quelles sont les deux fonctions booleennes que nous cherchons a apprendre ? Creez ce jeu de donnees (X et y) en utilisant les tableaux de numpy."
      ]
    },
    {
      "cell_type": "markdown",
      "id": "1563ccae",
      "metadata": {
        "id": "1563ccae"
      },
      "source": [
        "- Au vu de ce jeu de données, les deux fonctions booleennes que nous cherchons a apprendre sont : "
      ]
    },
    {
      "cell_type": "code",
      "execution_count": 13,
      "id": "59d3452e",
      "metadata": {
        "colab": {
          "base_uri": "https://localhost:8080/"
        },
        "id": "59d3452e",
        "outputId": "f820d053-521a-4539-d7f5-8ecb6f018619"
      },
      "outputs": [
        {
          "output_type": "stream",
          "name": "stdout",
          "text": [
            "Les entrées sont :\n",
            " [[0 0]\n",
            " [1 1]]\n",
            "Les sorties attendues sont : \n",
            " [[0 1]\n",
            " [1 1]]\n"
          ]
        }
      ],
      "source": [
        "# Définir les entrées\n",
        "X = np.array([[0,0],\n",
        "              [1,1]])\n",
        "print('Les entrées sont :\\n', X)\n",
        "\n",
        "# Définir les sorties attendues\n",
        "x = np.array([[0,1], [1,1]])\n",
        "print('Les sorties attendues sont : \\n', x)"
      ]
    },
    {
      "cell_type": "markdown",
      "id": "dac77d24",
      "metadata": {
        "id": "dac77d24"
      },
      "source": [
        "- 5. Déterminez une architecture MLP la plus simple possible pour l’apprentissage conjoint de ces deux fonctions (i.e. combien de neurones dans l’unique couche cach´ee ?). Le r´eseau correspondant devra ˆetre appris et test´e sur S0 lui-mˆeme. Quelle architecture obtenez-vous : sauvegardez ses parametres dans un fichier. On utilisera pour cela les composantes du mod ele que sont n layers , n outputs , out activation, coefs , intercepts , classes , loss . En combien d’iterations le solveur converge-t-il (cf.composante n_iter ) ?"
      ]
    },
    {
      "cell_type": "markdown",
      "id": "bbe3db68",
      "metadata": {
        "id": "bbe3db68"
      },
      "source": [
        "### 1.2.2 Travail sur le jeu de donnees Iris"
      ]
    },
    {
      "cell_type": "markdown",
      "id": "eb3b0e6b",
      "metadata": {
        "id": "eb3b0e6b"
      },
      "source": [
        "- 1. Charger ce jeu de données. Toutes les expériences a venir devront etre faites en train/test split 1."
      ]
    },
    {
      "cell_type": "code",
      "execution_count": 13,
      "id": "lxqoRoYuaS_f",
      "metadata": {
        "id": "lxqoRoYuaS_f"
      },
      "outputs": [],
      "source": []
    },
    {
      "cell_type": "code",
      "execution_count": 14,
      "id": "013ea616",
      "metadata": {
        "colab": {
          "base_uri": "https://localhost:8080/",
          "height": 297
        },
        "id": "013ea616",
        "outputId": "2d10472b-1b88-42e7-d917-9d271eb55b95"
      },
      "outputs": [
        {
          "output_type": "display_data",
          "data": {
            "text/plain": [
              "<Figure size 360x288 with 2 Axes>"
            ],
            "image/png": "[encoded data removed]"
          },
          "metadata": {
            "needs_background": "light"
          }
        }
      ],
      "source": [
        "import matplotlib.pyplot as plt\n",
        "from sklearn import svm, datasets\n",
        "from sklearn.model_selection import train_test_split\n",
        "import numpy as np\n",
        "# Chargement des données\n",
        "iris = datasets.load_iris()\n",
        "\n",
        "x_index = 0\n",
        "y_index = 1\n",
        "\n",
        "# this formatter will label the colorbar with the correct target names\n",
        "formatter = plt.FuncFormatter(lambda i, *args: iris.target_names[int(i)])\n",
        "\n",
        "plt.figure(figsize=(5, 4))\n",
        "plt.scatter(iris.data[:, x_index], iris.data[:, y_index], c=iris.target)\n",
        "plt.colorbar(ticks=[0, 1, 2], format=formatter)\n",
        "plt.xlabel(iris.feature_names[x_index])\n",
        "plt.ylabel(iris.feature_names[y_index])\n",
        "\n",
        "plt.tight_layout()\n",
        "plt.show()\n",
        "\n"
      ]
    },
    {
      "cell_type": "code",
      "execution_count": 17,
      "id": "ah7QMIImad5D",
      "metadata": {
        "colab": {
          "base_uri": "https://localhost:8080/",
          "height": 300
        },
        "id": "ah7QMIImad5D",
        "outputId": "902adbc1-d21b-4c33-88df-60e5e992001d"
      },
      "outputs": [
        {
          "output_type": "stream",
          "name": "stdout",
          "text": [
            "Le score en train est 1.0\n",
            "Le score en test est 0.9428571428571428\n"
          ]
        },
        {
          "output_type": "display_data",
          "data": {
            "text/plain": [
              "<Figure size 432x288 with 1 Axes>"
            ],
            "image/png": "[encoded data removed]"
          },
          "metadata": {
            "needs_background": "light"
          }
        }
      ],
      "source": [
        "X,y = iris.data, iris.target\n",
        "from sklearn.model_selection import train_test_split\n",
        "from sklearn.neural_network import MLPClassifier\n",
        "\n",
        "\n",
        "\n",
        "\n",
        "X_train, X_test, y_train, y_test = train_test_split(X, y, test_size=0.7)\n",
        "\n",
        "#-- Apprentissage\n",
        "\n",
        "clf = MLPClassifier(hidden_layer_sizes=(5,100),solver='sgd', max_iter=1000, random_state=0)\n",
        "clf.fit(X_train[:,2:4], y_train)\n",
        "\n",
        "\n",
        "train_score = clf.score(X_train[:,2:4], y_train)\n",
        "print(\"Le score en train est {}\".format(train_score))\n",
        "test_score = clf.score(X_test[:,2:4], y_test)\n",
        "print(\"Le score en test est {}\".format(test_score))\n",
        "\n",
        "\n",
        "plt.figure()\n",
        "# afficher les nuages de points d'apprentissage (pleins) et de test (creux)\n",
        "plt.scatter(X_train[:,2],X_train[:,3],s=50,edgecolors='none')\n",
        "plt.scatter(X_test[:,2],X_test[:,3],c='none',s=50,edgecolors='none')\n",
        "# calculer la probabilité de sortie du MLP pour tous les points du plan\n",
        "nx, ny = 200, 200\n",
        "x_min, x_max = plt.xlim()\n",
        "y_min, y_max = plt.ylim()\n",
        "xx, yy = np.meshgrid(np.linspace(x_min, x_max, nx),np.linspace(y_min, y_max, ny))\n",
        "Z = clf.predict_proba(np.c_[xx.ravel(), yy.ravel()])\n",
        "Z1 = Z[:, 1].reshape(xx.shape)\n",
        "# dessiner le contour correspondant Ã  la frontiére proba = 0,5\n",
        "plt.contour(xx, yy, Z1, [0.5])\n",
        "plt.show()"
      ]
    },
    {
      "cell_type": "markdown",
      "id": "eaf04623",
      "metadata": {
        "id": "eaf04623"
      },
      "source": [
        "- 2. Apprendre cinq modeles de classification des donnees Iris, avec des réseaux qui ont respectivement de 1 a 5 couches cachees, et des tailles de couches entre 10 et 300 au choix. Quelles sont les performances en taux de bonne classification et en temps d’apprentissage obtenus pour chaque modele ?"
      ]
    },
    {
      "cell_type": "code",
      "execution_count": 18,
      "id": "4ef7b50a",
      "metadata": {
        "id": "4ef7b50a"
      },
      "outputs": [],
      "source": [
        "#ici on définit une function MLPClassifier_fun_mdl  qui prend en entrée des données et puis performe un MLPClassifier \n",
        "# argument : hidden_layer_sizes = Nbr_HL, solver = solver_fun , max_iter = iter_num\n",
        "import time\n",
        "from sklearn.model_selection import cross_val_score\n",
        "\n",
        "#-- Apprentissage\n",
        "def MLPClassifier_fun_mdl (Nbr_HL, solver_fun , iter_num,X_train, y_train,X_test ) :\n",
        "\n",
        "  mlp = MLPClassifier(hidden_layer_sizes = Nbr_HL, solver = solver_fun , max_iter = iter_num)\n",
        "  mlp.fit(X_train, y_train)\n",
        "  predictions = mlp.predict_proba(X_test)\n",
        "  train_score = mlp.score(X_train, y_train)\n",
        "  accuracies = cross_val_score(estimator = mlp, X = X_train, y = y_train, cv = 10)\n",
        "  return accuracies.mean(), accuracies.std()\n"
      ]
    },
    {
      "cell_type": "markdown",
      "id": "Ssv0bXCl6QSu",
      "metadata": {
        "id": "Ssv0bXCl6QSu"
      },
      "source": [
        "\n",
        "\n",
        "*   3.comparer les résultats avec une classifieur à noyau de type `SVM` avec noyaux polynomial : **clsvm = svm.SVC(kernel=’poly’).**\n",
        "\n",
        "\n",
        "\n"
      ]
    },
    {
      "cell_type": "code",
      "execution_count": 19,
      "id": "JbwWoAHj573-",
      "metadata": {
        "id": "JbwWoAHj573-"
      },
      "outputs": [],
      "source": [
        "#ici on définit une function SVM_fun  qui prend en entrée des données et puis performe un SVM \n",
        "\n",
        "from sklearn.svm import SVC\n",
        "\n",
        "def SVM_Fuc_poly (X_train,y_train, X_test): \n",
        "  classifier = SVC(kernel = 'poly', random_state = 0)\n",
        "#Fit the model for the data\n",
        "  classifier.fit(X_train, y_train)\n",
        "#Make the prediction\n",
        "  y_pred1 = classifier.predict(X_test)\n",
        "  accuracies = cross_val_score(estimator = classifier, X = X_train, y = y_train, cv = 10)\n",
        "  print(\"Accuracy of A SVM model: {:.2f} %\".format(accuracies.mean()*100))\n",
        "  print(\"Standard Deviation of A SVM model: {:.2f} %\".format(accuracies.std()*100))\n",
        "  return accuracies.mean(), accuracies.std()"
      ]
    },
    {
      "cell_type": "code",
      "execution_count": 20,
      "id": "p5gfWtWwE0kv",
      "metadata": {
        "id": "p5gfWtWwE0kv"
      },
      "outputs": [],
      "source": [
        "from sklearn.preprocessing import StandardScaler\n",
        "def normalize_data(X ):\n",
        "  scaler = StandardScaler()\n",
        "  scaler.fit(X)\n",
        " \n",
        "  X_train = scaler.transform(X)\n",
        "  return X_train\n",
        "  "
      ]
    },
    {
      "cell_type": "markdown",
      "id": "XatmZiR07gbZ",
      "metadata": {
        "id": "XatmZiR07gbZ"
      },
      "source": [
        "\n",
        "Déterminez, pour chaque attribut d’entrées, sa valeur moyenne et l'écart-type de sa distribution.\n",
        "Une astuce classique lorsque l’on programme des réseaux de neurones, est de précéder l’apprentissage\n",
        "du modéle par la normalisation des valeurs d’entrées. Le principe est de ramener toutes les entr«ees\n",
        "dans un mˆeme intervalle ferm«e, tout en respectant les distributions de probabilit«es de ces entr«ees. Ce\n",
        "processus de normalisation permet de consid«erer toutes ces valeurs ‘a «egale importance. Attention,\n",
        "la normalisation doit se faire autant sur les donn«ees d’apprentissage que sur les donn«ees de test\n",
        "*   Normalisé les données \n",
        "\n"
      ]
    },
    {
      "cell_type": "code",
      "execution_count": 21,
      "id": "edimpC6l8TFR",
      "metadata": {
        "colab": {
          "base_uri": "https://localhost:8080/"
        },
        "id": "edimpC6l8TFR",
        "outputId": "90643a87-9f8a-48e5-8693-32dcc81f1c17"
      },
      "outputs": [
        {
          "output_type": "stream",
          "name": "stdout",
          "text": [
            "Accuracy of A SVM model: 98.00 %\n",
            "Standard Deviation of A SVM model: 6.00 %\n",
            "Accuracy_model_one: 98.00 %\n",
            "Standard Deviation_model_one: 6.00 %\n"
          ]
        }
      ],
      "source": [
        "from sklearn.preprocessing import StandardScaler\n",
        "\n",
        "\n",
        "#before normalizing \n",
        "SVM_Fuc_poly(X_train,y_train,X_test)\n",
        "#MLPClassifier_fun_mdl\n",
        "Nbr_HL, solver_fun , iter_num,X_train, y_train  =  (10,100,25,250,10), 'sgd', 1000, X_train,y_train\n",
        "\n",
        "Nbr_HL, solver_fun , iter_num,X_train, y_train  =  (10,100,25,250,10), 'sgd', 1000, X_train,y_train\n",
        "accuracy_mdl1, std_mdl1 = MLPClassifier_fun_mdl(Nbr_HL, solver_fun , iter_num,X_train, y_train, X_test )\n",
        "print(\"Accuracy_model_one: {:.2f} %\".format(accuracy_mdl1*100))\n",
        "print(\"Standard Deviation_model_one: {:.2f} %\".format(std_mdl1*100))\n",
        "\n",
        "\n"
      ]
    },
    {
      "cell_type": "code",
      "execution_count": 22,
      "id": "2ZTK8qMBMw_i",
      "metadata": {
        "colab": {
          "base_uri": "https://localhost:8080/"
        },
        "id": "2ZTK8qMBMw_i",
        "outputId": "a7303d0e-2a66-496e-a48c-596831b0a3f9"
      },
      "outputs": [
        {
          "output_type": "stream",
          "name": "stdout",
          "text": [
            "Accuracy of A SVM model: 93.50 %\n",
            "Standard Deviation of A SVM model: 10.01 %\n",
            "Accuracy_model_one: 95.50 %\n",
            "Standard Deviation_model_one: 9.07 %\n",
            "Accuracy_model_two: 93.50 %\n",
            "Standard Deviation_model_two: 10.01 %\n",
            "Accuracy_model_tree: 91.00 %\n",
            "Standard Deviation_model_tree: 15.78 %\n",
            "Accuracy_model_four: 93.50 %\n",
            "Standard Deviation_model_four: 10.01 %\n",
            "Accuracy_model_five: 96.00 %\n",
            "Standard Deviation_model_five: 8.00 %\n"
          ]
        }
      ],
      "source": [
        "#normalize data \n",
        "X_train_normlized = normalize_data(X_train)\n",
        "X_test_normlized = normalize_data(X_test)\n",
        "\n",
        "\n",
        "#SVM \n",
        "SVM_Fuc_poly(X_train_normlized,y_train,X_test_normlized)\n",
        "\n",
        "#param initiation\n",
        "#MLPClassifier_fun_mdl\n",
        "\n",
        "#model_1 : Nbr_HL = (10,100,25,250,10)\n",
        "accuracy_mdl1, std_mdl1 = MLPClassifier_fun_mdl(Nbr_HL, solver_fun , iter_num,X_train_normlized, y_train, X_test_normlized )\n",
        "print(\"Accuracy_model_one: {:.2f} %\".format(accuracy_mdl1*100))\n",
        "print(\"Standard Deviation_model_one: {:.2f} %\".format(std_mdl1*100))\n",
        "#model_2 : Nbr_HL = (50,150,25,50,10)\n",
        "Nbr_HL = (50,150,25,50,10)\n",
        "accuracy_mdl2, std_mdl2 = MLPClassifier_fun_mdl(Nbr_HL, solver_fun , iter_num,X_train_normlized, y_train, X_test_normlized )\n",
        "print(\"Accuracy_model_two: {:.2f} %\".format(accuracy_mdl2*100))\n",
        "print(\"Standard Deviation_model_two: {:.2f} %\".format(std_mdl2*100))\n",
        "#model_3 : Nbr_HL = (50,150,25,50,10)\n",
        "Nbr_HL = (10,150,250,100,10)\n",
        "accuracy_mdl3, std_mdl3 = MLPClassifier_fun_mdl(Nbr_HL, solver_fun , iter_num,X_train_normlized, y_train, X_test_normlized )\n",
        "print(\"Accuracy_model_tree: {:.2f} %\".format(accuracy_mdl3*100))\n",
        "print(\"Standard Deviation_model_tree: {:.2f} %\".format(std_mdl3*100))\n",
        "#model_4 : Nbr_HL = (50,100,250,50,100)\n",
        "Nbr_HL = (50,100,250,50,100)\n",
        "accuracy_mdl4, std_mdl4 = MLPClassifier_fun_mdl(Nbr_HL, solver_fun , iter_num,X_train_normlized, y_train, X_test_normlized )\n",
        "print(\"Accuracy_model_four: {:.2f} %\".format(accuracy_mdl4*100))\n",
        "print(\"Standard Deviation_model_four: {:.2f} %\".format(std_mdl4*100))\n",
        "#Model_5 : Nbr_HL = (100,150,200,150,100)\n",
        "Nbr_HL = (100,150,200,150,100)\n",
        "accuracy_mdl5, std_mdl5 = MLPClassifier_fun_mdl(Nbr_HL, solver_fun , iter_num,X_train_normlized, y_train , X_test_normlized)\n",
        "print(\"Accuracy_model_five: {:.2f} %\".format(accuracy_mdl5*100))\n",
        "print(\"Standard Deviation_model_five: {:.2f} %\".format(std_mdl5*100))"
      ]
    },
    {
      "cell_type": "code",
      "execution_count": null,
      "id": "if5pUF_ZMkNW",
      "metadata": {
        "id": "if5pUF_ZMkNW"
      },
      "outputs": [],
      "source": [
        "from sklearn.model_selection import GridSearchCV\n",
        "parameter = {\n",
        "                        'hidden_layer_sizes': [(50,50,50), (50,100,50)],\n",
        "                        'activation': ['tanh', 'relu'],\n",
        "                        'solver': ['sgd', 'adam', 'L-BFGS' ],\n",
        "                        'alpha': [0.0001, 0.05],\n",
        "                        'learning_rate_init': [0.5,0.1, 0.01, 0.001],\n",
        "                        'max_iter': [100,200,250,1000]\n",
        "                        }\n",
        "clf=MLPClassifier()\n",
        "qlf=GridSearchCV (clf, parameter, n_jobs=-1, cv=8)\n",
        "qlf.fit(X_train, y_train)\n",
        "print (qlf.best_params_)"
      ]
    },
    {
      "cell_type": "markdown",
      "id": "mvmXX8Mo9rCb",
      "metadata": {
        "id": "mvmXX8Mo9rCb"
      },
      "source": [
        "## 2 Travail sur le jeu de données MNIST\n"
      ]
    },
    {
      "cell_type": "code",
      "execution_count": null,
      "id": "xKaJ26lc_QX5",
      "metadata": {
        "id": "xKaJ26lc_QX5"
      },
      "outputs": [],
      "source": [
        "#importer les données \n",
        "import warnings\n",
        "from sklearn.datasets import fetch_openml\n",
        "from sklearn.neural_network import MLPClassifier\n",
        "from sklearn.model_selection import train_test_split, GridSearchCV\n",
        "import pandas as pd\n",
        "\n",
        "warnings.simplefilter(\"ignore\")\n",
        "df = fetch_openml(\"mnist_784\")"
      ]
    },
    {
      "cell_type": "code",
      "execution_count": null,
      "id": "dJ2hN0t-EXcZ",
      "metadata": {
        "id": "dJ2hN0t-EXcZ"
      },
      "outputs": [],
      "source": [
        "# afficher les données \n",
        "df.data.head()"
      ]
    },
    {
      "cell_type": "code",
      "execution_count": null,
      "id": "po4LzGvFEwoN",
      "metadata": {
        "id": "po4LzGvFEwoN"
      },
      "outputs": [],
      "source": [
        "# afficher les données \n",
        "lotImage = df.data.to_numpy()\n",
        "\n",
        "for i in range(4):\n",
        "    plt.imshow((lotImage[i].reshape(28,28)))\n",
        "    plt.show()"
      ]
    },
    {
      "cell_type": "markdown",
      "id": "MmFM8ZZ0H7gG",
      "metadata": {
        "id": "MmFM8ZZ0H7gG"
      },
      "source": [
        "## Créer le module"
      ]
    },
    {
      "cell_type": "code",
      "execution_count": null,
      "id": "ksRZn8QLHdRA",
      "metadata": {
        "id": "ksRZn8QLHdRA"
      },
      "outputs": [],
      "source": [
        "import time \n",
        "from sklearn.metrics import accuracy_score\n",
        "\n",
        "X_train = df.data[:60000]\n",
        "X_test = df.data[60000:]\n",
        "y_train = df.target[:60000]\n",
        "y_test = df.target[60000:]"
      ]
    },
    {
      "cell_type": "code",
      "execution_count": null,
      "id": "qghDX12xI1uh",
      "metadata": {
        "id": "qghDX12xI1uh"
      },
      "outputs": [],
      "source": [
        "start_time = time.time()\n",
        "mlp = MLPClassifier()\n",
        "mlp.fit(X_train, y_train)\n",
        "prediction = mlp.predict(X_test)\n",
        "print(accuracy_score(y_test, prediction))\n",
        "print(\"--- %s seconds ---\" % (time.time() - start_time))"
      ]
    },
    {
      "cell_type": "code",
      "execution_count": null,
      "id": "1AszmQTZIyoV",
      "metadata": {
        "id": "1AszmQTZIyoV"
      },
      "outputs": [],
      "source": [
        "scaler = StandardScaler()\n",
        "X_train_scaler = scaler.fit_transform(X_train)\n",
        "X_test_scaler = scaler.fit_transform(X_test)\n",
        "\n",
        "start_time = time.time()\n",
        "mlp = MLPClassifier()\n",
        "mlp.fit(X_train_scaler, y_train)\n",
        "prediction = mlp.predict(X_test_scaler)\n",
        "print(accuracy_score(y_test, prediction))\n",
        "print(\"--- %s seconds ---\" % (time.time() - start_time))"
      ]
    },
    {
      "cell_type": "code",
      "execution_count": null,
      "id": "dE2P1OaHJCwv",
      "metadata": {
        "id": "dE2P1OaHJCwv"
      },
      "outputs": [],
      "source": [
        "parametres = {'hidden_layer_sizes':[(50,),(50,50),(50,50,50)],\n",
        "             'activation':[\"identity\",\"logistic\",\"tanh\",\"relu\"],\n",
        "             'solver':[\"lbfgs\",\"sgd\",\"adam\"],\n",
        "             'alpha':[0.0000001,0.000001,0.00001,0.0001,0.001,0.01,0.1],\n",
        "             'learning_rate':[\"constant\",\"invscaling\",\"adaptive\"]}\n",
        "\n",
        "mlp_clf = MLPClassifier()\n",
        "gridS_mlp = GridSearchCV(mlp_clf, parametres, cv=3, n_jobs=4)\n",
        "gridS_mlp.fit(X_train_scaler, y_train)\n",
        "\n",
        "\n",
        "print(gridS_mlp.best_params_)"
      ]
    }
  ],
  "metadata": {
    "colab": {
      "provenance": []
    },
    "kernelspec": {
      "display_name": "Python 3 (ipykernel)",
      "language": "python",
      "name": "python3"
    },
    "language_info": {
      "codemirror_mode": {
        "name": "ipython",
        "version": 3
      },
      "file_extension": ".py",
      "mimetype": "text/x-python",
      "name": "python",
      "nbconvert_exporter": "python",
      "pygments_lexer": "ipython3",
      "version": "3.9.12"
    }
  },
  "nbformat": 4,
  "nbformat_minor": 5
}