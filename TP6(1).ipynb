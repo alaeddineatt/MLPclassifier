{
  "cells": [
    {
      "cell_type": "markdown",
      "id": "08c8644c",
      "metadata": {
        "id": "08c8644c"
      },
      "source": [
        "## TP6"
      ]
    },
    {
      "cell_type": "markdown",
      "id": "001e883c",
      "metadata": {
        "id": "001e883c"
      },
      "source": [
        "### Apprentissage par perceptron multi-couches sous sklearn"
      ]
    },
    {
      "cell_type": "markdown",
      "id": "0301eea8",
      "metadata": {
        "id": "0301eea8"
      },
      "source": [
        "\n",
        "\n",
        "```\n",
        "# Ce texte est au format code\n",
        "```\n",
        "\n",
        "#### Elhiani Youssef\n",
        "\n",
        "#### ATTRASSI Alaeddine"
      ]
    },
    {
      "cell_type": "markdown",
      "id": "e5315fe4",
      "metadata": {
        "id": "e5315fe4"
      },
      "source": [
        "### 1.2.1 Prise en main du modele :"
      ]
    },
    {
      "cell_type": "markdown",
      "id": "058637f7",
      "metadata": {
        "id": "058637f7"
      },
      "source": [
        "- 1. Soit le jeu de donnees S = {([0, 0], 0), ([0, 1], 1)}. Nous cherchons a apprendre un modele f(x) : R² --> {0, 1} qui, a chaque exemple, associe une sortie booleenne. Creez ce jeu de donnees (X et y) en utilisant les tableaux de numpy."
      ]
    },
    {
      "cell_type": "code",
      "execution_count": null,
      "id": "f1a581fb",
      "metadata": {
        "id": "f1a581fb"
      },
      "outputs": [],
      "source": [
        "import numpy as np \n",
        "from sklearn.neural_network import MLPClassifier\n",
        "import warnings\n",
        "warnings.filterwarnings (\"ignore\")"
      ]
    },
    {
      "cell_type": "code",
      "execution_count": null,
      "id": "cfcb47fb",
      "metadata": {
        "id": "cfcb47fb",
        "outputId": "d77ed6f4-dcea-46fd-cd3e-fdec9027cd87",
        "colab": {
          "base_uri": "https://localhost:8080/"
        }
      },
      "outputs": [
        {
          "output_type": "stream",
          "name": "stdout",
          "text": [
            "Les entrées sont :\n",
            " [[0 0]\n",
            " [0 1]]\n",
            "Les sorties attendues sont : \n",
            " [[0]\n",
            " [1]]\n"
          ]
        }
      ],
      "source": [
        "# Définir les entrées\n",
        "X = np.array([[0,0],\n",
        "              [0,1]])\n",
        "print('Les entrées sont :\\n', X)\n",
        "\n",
        "# Définir les sorties attendues\n",
        "y = np.array([[0], [1]])\n",
        "print('Les sorties attendues sont : \\n', y)"
      ]
    },
    {
      "cell_type": "markdown",
      "id": "3af4d369",
      "metadata": {
        "id": "3af4d369"
      },
      "source": [
        "- 2. Creez un modele MLP de classification avec une couche cachee de 4 neurones : dessinez ce modele sur feuille, cr´eez le avec MLPClassifier, puis apprenez le avec S, et testez le avec les entrees [2.,2.], puis [-1.,-2.]. A l’aide des coefficients appris, completez le dessin du MLP et verifiez la sortie manuellement."
      ]
    },
    {
      "cell_type": "code",
      "execution_count": null,
      "id": "cdb42848",
      "metadata": {
        "id": "cdb42848"
      },
      "outputs": [],
      "source": [
        "X_test_1 = np.array([[2,2]])\n",
        "X_test_2 = np.array([[-1,-2]])\n",
        "clf = MLPClassifier(hidden_layer_sizes=4,random_state=1, max_iter=500).fit(X, y)"
      ]
    },
    {
      "cell_type": "code",
      "execution_count": null,
      "id": "a6c42738",
      "metadata": {
        "id": "a6c42738",
        "outputId": "90b26034-8418-407e-a250-7d2059dfb6dc",
        "colab": {
          "base_uri": "https://localhost:8080/"
        }
      },
      "outputs": [
        {
          "output_type": "execute_result",
          "data": {
            "text/plain": [
              "array([0])"
            ]
          },
          "metadata": {},
          "execution_count": 4
        }
      ],
      "source": [
        "clf.predict(X_test_1)"
      ]
    },
    {
      "cell_type": "code",
      "execution_count": null,
      "id": "9d227fed",
      "metadata": {
        "id": "9d227fed",
        "outputId": "7ee0cdb0-8db9-4145-88ae-d1cb706be470",
        "colab": {
          "base_uri": "https://localhost:8080/",
          "height": 330
        }
      },
      "outputs": [
        {
          "output_type": "error",
          "ename": "ValueError",
          "evalue": "ignored",
          "traceback": [
            "\u001b[0;31m---------------------------------------------------------------------------\u001b[0m",
            "\u001b[0;31mValueError\u001b[0m                                Traceback (most recent call last)",
            "\u001b[0;32m<ipython-input-5-e9297ce42e48>\u001b[0m in \u001b[0;36m<module>\u001b[0;34m\u001b[0m\n\u001b[0;32m----> 1\u001b[0;31m \u001b[0maccuracy\u001b[0m \u001b[0;34m=\u001b[0m \u001b[0mclf\u001b[0m\u001b[0;34m.\u001b[0m\u001b[0mscore\u001b[0m\u001b[0;34m(\u001b[0m\u001b[0my\u001b[0m\u001b[0;34m,\u001b[0m \u001b[0mX_test_1\u001b[0m\u001b[0;34m)\u001b[0m\u001b[0;34m\u001b[0m\u001b[0;34m\u001b[0m\u001b[0m\n\u001b[0m\u001b[1;32m      2\u001b[0m \u001b[0maccuracy\u001b[0m\u001b[0;34m\u001b[0m\u001b[0;34m\u001b[0m\u001b[0m\n",
            "\u001b[0;32m/usr/local/lib/python3.7/dist-packages/sklearn/base.py\u001b[0m in \u001b[0;36mscore\u001b[0;34m(self, X, y, sample_weight)\u001b[0m\n\u001b[1;32m    649\u001b[0m         \u001b[0;32mfrom\u001b[0m \u001b[0;34m.\u001b[0m\u001b[0mmetrics\u001b[0m \u001b[0;32mimport\u001b[0m \u001b[0maccuracy_score\u001b[0m\u001b[0;34m\u001b[0m\u001b[0;34m\u001b[0m\u001b[0m\n\u001b[1;32m    650\u001b[0m \u001b[0;34m\u001b[0m\u001b[0m\n\u001b[0;32m--> 651\u001b[0;31m         \u001b[0;32mreturn\u001b[0m \u001b[0maccuracy_score\u001b[0m\u001b[0;34m(\u001b[0m\u001b[0my\u001b[0m\u001b[0;34m,\u001b[0m \u001b[0mself\u001b[0m\u001b[0;34m.\u001b[0m\u001b[0mpredict\u001b[0m\u001b[0;34m(\u001b[0m\u001b[0mX\u001b[0m\u001b[0;34m)\u001b[0m\u001b[0;34m,\u001b[0m \u001b[0msample_weight\u001b[0m\u001b[0;34m=\u001b[0m\u001b[0msample_weight\u001b[0m\u001b[0;34m)\u001b[0m\u001b[0;34m\u001b[0m\u001b[0;34m\u001b[0m\u001b[0m\n\u001b[0m\u001b[1;32m    652\u001b[0m \u001b[0;34m\u001b[0m\u001b[0m\n\u001b[1;32m    653\u001b[0m     \u001b[0;32mdef\u001b[0m \u001b[0m_more_tags\u001b[0m\u001b[0;34m(\u001b[0m\u001b[0mself\u001b[0m\u001b[0;34m)\u001b[0m\u001b[0;34m:\u001b[0m\u001b[0;34m\u001b[0m\u001b[0;34m\u001b[0m\u001b[0m\n",
            "\u001b[0;32m/usr/local/lib/python3.7/dist-packages/sklearn/neural_network/_multilayer_perceptron.py\u001b[0m in \u001b[0;36mpredict\u001b[0;34m(self, X)\u001b[0m\n\u001b[1;32m   1165\u001b[0m         \"\"\"\n\u001b[1;32m   1166\u001b[0m         \u001b[0mcheck_is_fitted\u001b[0m\u001b[0;34m(\u001b[0m\u001b[0mself\u001b[0m\u001b[0;34m)\u001b[0m\u001b[0;34m\u001b[0m\u001b[0;34m\u001b[0m\u001b[0m\n\u001b[0;32m-> 1167\u001b[0;31m         \u001b[0my_pred\u001b[0m \u001b[0;34m=\u001b[0m \u001b[0mself\u001b[0m\u001b[0;34m.\u001b[0m\u001b[0m_forward_pass_fast\u001b[0m\u001b[0;34m(\u001b[0m\u001b[0mX\u001b[0m\u001b[0;34m)\u001b[0m\u001b[0;34m\u001b[0m\u001b[0;34m\u001b[0m\u001b[0m\n\u001b[0m\u001b[1;32m   1168\u001b[0m \u001b[0;34m\u001b[0m\u001b[0m\n\u001b[1;32m   1169\u001b[0m         \u001b[0;32mif\u001b[0m \u001b[0mself\u001b[0m\u001b[0;34m.\u001b[0m\u001b[0mn_outputs_\u001b[0m \u001b[0;34m==\u001b[0m \u001b[0;36m1\u001b[0m\u001b[0;34m:\u001b[0m\u001b[0;34m\u001b[0m\u001b[0;34m\u001b[0m\u001b[0m\n",
            "\u001b[0;32m/usr/local/lib/python3.7/dist-packages/sklearn/neural_network/_multilayer_perceptron.py\u001b[0m in \u001b[0;36m_forward_pass_fast\u001b[0;34m(self, X)\u001b[0m\n\u001b[1;32m    157\u001b[0m             \u001b[0mThe\u001b[0m \u001b[0mdecision\u001b[0m \u001b[0mfunction\u001b[0m \u001b[0mof\u001b[0m \u001b[0mthe\u001b[0m \u001b[0msamples\u001b[0m \u001b[0;32mfor\u001b[0m \u001b[0meach\u001b[0m \u001b[0;32mclass\u001b[0m \u001b[0;32min\u001b[0m \u001b[0mthe\u001b[0m \u001b[0mmodel\u001b[0m\u001b[0;34m.\u001b[0m\u001b[0;34m\u001b[0m\u001b[0;34m\u001b[0m\u001b[0m\n\u001b[1;32m    158\u001b[0m         \"\"\"\n\u001b[0;32m--> 159\u001b[0;31m         \u001b[0mX\u001b[0m \u001b[0;34m=\u001b[0m \u001b[0mself\u001b[0m\u001b[0;34m.\u001b[0m\u001b[0m_validate_data\u001b[0m\u001b[0;34m(\u001b[0m\u001b[0mX\u001b[0m\u001b[0;34m,\u001b[0m \u001b[0maccept_sparse\u001b[0m\u001b[0;34m=\u001b[0m\u001b[0;34m[\u001b[0m\u001b[0;34m\"csr\"\u001b[0m\u001b[0;34m,\u001b[0m \u001b[0;34m\"csc\"\u001b[0m\u001b[0;34m]\u001b[0m\u001b[0;34m,\u001b[0m \u001b[0mreset\u001b[0m\u001b[0;34m=\u001b[0m\u001b[0;32mFalse\u001b[0m\u001b[0;34m)\u001b[0m\u001b[0;34m\u001b[0m\u001b[0;34m\u001b[0m\u001b[0m\n\u001b[0m\u001b[1;32m    160\u001b[0m \u001b[0;34m\u001b[0m\u001b[0m\n\u001b[1;32m    161\u001b[0m         \u001b[0;31m# Initialize first layer\u001b[0m\u001b[0;34m\u001b[0m\u001b[0;34m\u001b[0m\u001b[0;34m\u001b[0m\u001b[0m\n",
            "\u001b[0;32m/usr/local/lib/python3.7/dist-packages/sklearn/base.py\u001b[0m in \u001b[0;36m_validate_data\u001b[0;34m(self, X, y, reset, validate_separately, **check_params)\u001b[0m\n\u001b[1;32m    583\u001b[0m \u001b[0;34m\u001b[0m\u001b[0m\n\u001b[1;32m    584\u001b[0m         \u001b[0;32mif\u001b[0m \u001b[0;32mnot\u001b[0m \u001b[0mno_val_X\u001b[0m \u001b[0;32mand\u001b[0m \u001b[0mcheck_params\u001b[0m\u001b[0;34m.\u001b[0m\u001b[0mget\u001b[0m\u001b[0;34m(\u001b[0m\u001b[0;34m\"ensure_2d\"\u001b[0m\u001b[0;34m,\u001b[0m \u001b[0;32mTrue\u001b[0m\u001b[0;34m)\u001b[0m\u001b[0;34m:\u001b[0m\u001b[0;34m\u001b[0m\u001b[0;34m\u001b[0m\u001b[0m\n\u001b[0;32m--> 585\u001b[0;31m             \u001b[0mself\u001b[0m\u001b[0;34m.\u001b[0m\u001b[0m_check_n_features\u001b[0m\u001b[0;34m(\u001b[0m\u001b[0mX\u001b[0m\u001b[0;34m,\u001b[0m \u001b[0mreset\u001b[0m\u001b[0;34m=\u001b[0m\u001b[0mreset\u001b[0m\u001b[0;34m)\u001b[0m\u001b[0;34m\u001b[0m\u001b[0;34m\u001b[0m\u001b[0m\n\u001b[0m\u001b[1;32m    586\u001b[0m \u001b[0;34m\u001b[0m\u001b[0m\n\u001b[1;32m    587\u001b[0m         \u001b[0;32mreturn\u001b[0m \u001b[0mout\u001b[0m\u001b[0;34m\u001b[0m\u001b[0;34m\u001b[0m\u001b[0m\n",
            "\u001b[0;32m/usr/local/lib/python3.7/dist-packages/sklearn/base.py\u001b[0m in \u001b[0;36m_check_n_features\u001b[0;34m(self, X, reset)\u001b[0m\n\u001b[1;32m    399\u001b[0m         \u001b[0;32mif\u001b[0m \u001b[0mn_features\u001b[0m \u001b[0;34m!=\u001b[0m \u001b[0mself\u001b[0m\u001b[0;34m.\u001b[0m\u001b[0mn_features_in_\u001b[0m\u001b[0;34m:\u001b[0m\u001b[0;34m\u001b[0m\u001b[0;34m\u001b[0m\u001b[0m\n\u001b[1;32m    400\u001b[0m             raise ValueError(\n\u001b[0;32m--> 401\u001b[0;31m                 \u001b[0;34mf\"X has {n_features} features, but {self.__class__.__name__} \"\u001b[0m\u001b[0;34m\u001b[0m\u001b[0;34m\u001b[0m\u001b[0m\n\u001b[0m\u001b[1;32m    402\u001b[0m                 \u001b[0;34mf\"is expecting {self.n_features_in_} features as input.\"\u001b[0m\u001b[0;34m\u001b[0m\u001b[0;34m\u001b[0m\u001b[0m\n\u001b[1;32m    403\u001b[0m             )\n",
            "\u001b[0;31mValueError\u001b[0m: X has 1 features, but MLPClassifier is expecting 2 features as input."
          ]
        }
      ],
      "source": [
        "accuracy = clf.score(y, X_test_1)\n",
        "accuracy"
      ]
    },
    {
      "cell_type": "code",
      "execution_count": null,
      "id": "8ba6b14f",
      "metadata": {
        "id": "8ba6b14f"
      },
      "outputs": [],
      "source": [
        "clf.predict(X_test_2)"
      ]
    },
    {
      "cell_type": "code",
      "execution_count": null,
      "id": "9829c75b",
      "metadata": {
        "id": "9829c75b"
      },
      "outputs": [],
      "source": [
        "accuracy = clf.score(y, X_test_2)\n",
        "print(accuracy)"
      ]
    },
    {
      "cell_type": "markdown",
      "id": "23a846ae",
      "metadata": {
        "id": "23a846ae"
      },
      "source": [
        "- 3. Completez S en ajoutant les exemples ([1, 1], 0) et ([1, 0], 1). Il s’agit du probleme du XOR.Apprenez les deux reseaux dont l’architecture a été presentee en cours avec des perceptrons lineaires a seuil. Les predictions des reseaux obtenus sont-elles correctes ? Quels sont les coefficients et biais obtenus ?"
      ]
    },
    {
      "cell_type": "code",
      "execution_count": null,
      "id": "b6a021f7",
      "metadata": {
        "id": "b6a021f7"
      },
      "outputs": [],
      "source": [
        "# completer S avec ([1, 1], 0) et ([1, 0], 1) \n",
        "X = np.array([[0,0],\n",
        "              [0,1],\n",
        "              [1,1],\n",
        "              [1,0]])"
      ]
    },
    {
      "cell_type": "code",
      "execution_count": null,
      "id": "b0c149c2",
      "metadata": {
        "id": "b0c149c2"
      },
      "outputs": [],
      "source": []
    },
    {
      "cell_type": "markdown",
      "id": "8367986c",
      "metadata": {
        "id": "8367986c"
      },
      "source": [
        "- 4. Soit S' = {([0, 0], [0, 1]), ([1, 1], [1, 1])}. Nous cherchons a apprendre un modele f(x) : R2 ! {0, 1}² qui, a chaque exemple, associe deux sorties booleennes distinctes. Au vu de S', quelles sont les deux fonctions booleennes que nous cherchons a apprendre ? Creez ce jeu de donnees (X et y) en utilisant les tableaux de numpy."
      ]
    },
    {
      "cell_type": "markdown",
      "id": "1563ccae",
      "metadata": {
        "id": "1563ccae"
      },
      "source": [
        "- Au vu de ce jeu de données, les deux fonctions booleennes que nous cherchons a apprendre sont : "
      ]
    },
    {
      "cell_type": "code",
      "execution_count": 1,
      "id": "59d3452e",
      "metadata": {
        "id": "59d3452e",
        "outputId": "bbdc105e-6d3f-40e8-faf5-24920b298ae3",
        "colab": {
          "base_uri": "https://localhost:8080/",
          "height": 237
        }
      },
      "outputs": [
        {
          "output_type": "error",
          "ename": "NameError",
          "evalue": "ignored",
          "traceback": [
            "\u001b[0;31m---------------------------------------------------------------------------\u001b[0m",
            "\u001b[0;31mNameError\u001b[0m                                 Traceback (most recent call last)",
            "\u001b[0;32m<ipython-input-1-97a0a30dd553>\u001b[0m in \u001b[0;36m<module>\u001b[0;34m\u001b[0m\n\u001b[1;32m      1\u001b[0m \u001b[0;31m# Définir les entrées\u001b[0m\u001b[0;34m\u001b[0m\u001b[0;34m\u001b[0m\u001b[0;34m\u001b[0m\u001b[0m\n\u001b[0;32m----> 2\u001b[0;31m X = np.array([[0,0],\n\u001b[0m\u001b[1;32m      3\u001b[0m               [1,1]])\n\u001b[1;32m      4\u001b[0m \u001b[0mprint\u001b[0m\u001b[0;34m(\u001b[0m\u001b[0;34m'Les entrées sont :\\n'\u001b[0m\u001b[0;34m,\u001b[0m \u001b[0mX\u001b[0m\u001b[0;34m)\u001b[0m\u001b[0;34m\u001b[0m\u001b[0;34m\u001b[0m\u001b[0m\n\u001b[1;32m      5\u001b[0m \u001b[0;34m\u001b[0m\u001b[0m\n",
            "\u001b[0;31mNameError\u001b[0m: name 'np' is not defined"
          ]
        }
      ],
      "source": [
        "# Définir les entrées\n",
        "X = np.array([[0,0],\n",
        "              [1,1]])\n",
        "print('Les entrées sont :\\n', X)\n",
        "\n",
        "# Définir les sorties attendues\n",
        "x = np.array([[0,1], [1,1]])\n",
        "print('Les sorties attendues sont : \\n', x)"
      ]
    },
    {
      "cell_type": "markdown",
      "id": "dac77d24",
      "metadata": {
        "id": "dac77d24"
      },
      "source": [
        "- 5. Déterminez une architecture MLP la plus simple possible pour l’apprentissage conjoint de ces deux fonctions (i.e. combien de neurones dans l’unique couche cach´ee ?). Le r´eseau correspondant devra ˆetre appris et test´e sur S0 lui-mˆeme. Quelle architecture obtenez-vous : sauvegardez ses parametres dans un fichier. On utilisera pour cela les composantes du mod ele que sont n layers , n outputs , out activation, coefs , intercepts , classes , loss . En combien d’iterations le solveur converge-t-il (cf.composante n_iter ) ?"
      ]
    },
    {
      "cell_type": "markdown",
      "id": "bbe3db68",
      "metadata": {
        "id": "bbe3db68"
      },
      "source": [
        "### 1.2.2 Travail sur le jeu de donnees Iris"
      ]
    },
    {
      "cell_type": "markdown",
      "id": "eb3b0e6b",
      "metadata": {
        "id": "eb3b0e6b"
      },
      "source": [
        "- 1. Charger ce jeu de données. Toutes les expériences a venir devront etre faites en train/test split 1."
      ]
    },
    {
      "cell_type": "code",
      "source": [],
      "metadata": {
        "id": "lxqoRoYuaS_f"
      },
      "id": "lxqoRoYuaS_f",
      "execution_count": null,
      "outputs": []
    },
    {
      "cell_type": "code",
      "execution_count": 16,
      "id": "013ea616",
      "metadata": {
        "id": "013ea616",
        "outputId": "6d5a0806-b566-4f03-b682-70ba00941c03",
        "colab": {
          "base_uri": "https://localhost:8080/",
          "height": 297
        }
      },
      "outputs": [
        {
          "output_type": "display_data",
          "data": {
            "text/plain": [
              "<Figure size 360x288 with 2 Axes>"
            ],
            "image/png": "[encoded data removed]"
          },
          "metadata": {
            "needs_background": "light"
          }
        }
      ],
      "source": [
        "import matplotlib.pyplot as plt\n",
        "from sklearn import svm, datasets\n",
        "from sklearn.model_selection import train_test_split\n",
        "import numpy as np\n",
        "# Chargement des données\n",
        "iris = datasets.load_iris()\n",
        "\n",
        "x_index = 0\n",
        "y_index = 1\n",
        "\n",
        "# this formatter will label the colorbar with the correct target names\n",
        "formatter = plt.FuncFormatter(lambda i, *args: iris.target_names[int(i)])\n",
        "\n",
        "plt.figure(figsize=(5, 4))\n",
        "plt.scatter(iris.data[:, x_index], iris.data[:, y_index], c=iris.target)\n",
        "plt.colorbar(ticks=[0, 1, 2], format=formatter)\n",
        "plt.xlabel(iris.feature_names[x_index])\n",
        "plt.ylabel(iris.feature_names[y_index])\n",
        "\n",
        "plt.tight_layout()\n",
        "plt.show()\n",
        "\n"
      ]
    },
    {
      "cell_type": "code",
      "source": [
        "X,y = iris.data, iris.target\n",
        "from sklearn.model_selection import train_test_split\n",
        "from sklearn.neural_network import MLPClassifier\n",
        "\n",
        "\n",
        "\n",
        "\n",
        "X_train, X_test, y_train, y_test = train_test_split(X, y, test_size=0.7)\n",
        "\n",
        "#-- Apprentissage\n",
        "\n",
        "clf = MLPClassifier(hidden_layer_sizes=(5,100),solver='sgd', max_iter=1000, random_state=0)\n",
        "clf.fit(X_train[:,2:4], y_train)\n",
        "\n",
        "\n",
        "train_score = clf.score(X_train[:,2:4], y_train1)\n",
        "print(\"Le score en train est {}\".format(train_score))\n",
        "test_score = clf.score(X_test[:,2:4], y_test)\n",
        "print(\"Le score en test est {}\".format(test_score))\n",
        "\n",
        "\n",
        "plt.figure()\n",
        "# afficher les nuages de points d'apprentissage (pleins) et de test (creux)\n",
        "plt.scatter(X_train[:,2],X_train[:,3],s=50,edgecolors='none')\n",
        "plt.scatter(X_test[:,2],X_test[:,3],c='none',s=50,edgecolors='none')\n",
        "# calculer la probabilité de sortie du MLP pour tous les points du plan\n",
        "nx, ny = 200, 200\n",
        "x_min, x_max = plt.xlim()\n",
        "y_min, y_max = plt.ylim()\n",
        "xx, yy = np.meshgrid(np.linspace(x_min, x_max, nx),np.linspace(y_min, y_max, ny))\n",
        "Z = clf.predict_proba(np.c_[xx.ravel(), yy.ravel()])\n",
        "Z1 = Z[:, 1].reshape(xx.shape)\n",
        "# dessiner le contour correspondant Ã  la frontiére proba = 0,5\n",
        "plt.contour(xx, yy, Z1, [0.5])\n",
        "plt.show()"
      ],
      "metadata": {
        "id": "ah7QMIImad5D",
        "outputId": "d4465bcd-4909-49e0-a972-9479432adbf5",
        "colab": {
          "base_uri": "https://localhost:8080/",
          "height": 334
        }
      },
      "id": "ah7QMIImad5D",
      "execution_count": 17,
      "outputs": [
        {
          "output_type": "stream",
          "name": "stdout",
          "text": [
            "Le score en train est 0.2\n",
            "Le score en test est 0.9619047619047619\n"
          ]
        },
        {
          "output_type": "stream",
          "name": "stderr",
          "text": [
            "/usr/local/lib/python3.7/dist-packages/sklearn/neural_network/_multilayer_perceptron.py:696: ConvergenceWarning: Stochastic Optimizer: Maximum iterations (1000) reached and the optimization hasn't converged yet.\n",
            "  ConvergenceWarning,\n"
          ]
        },
        {
          "output_type": "display_data",
          "data": {
            "text/plain": [
              "<Figure size 432x288 with 1 Axes>"
            ],
            "image/png": "[encoded data removed]"
          },
          "metadata": {
            "needs_background": "light"
          }
        }
      ]
    },
    {
      "cell_type": "markdown",
      "id": "eaf04623",
      "metadata": {
        "id": "eaf04623"
      },
      "source": [
        "- 2. Apprendre cinq modeles de classification des donnees Iris, avec des réseaux qui ont respectivement de 1 a 5 couches cachees, et des tailles de couches entre 10 et 300 au choix. Quelles sont les performances en taux de bonne classification et en temps d’apprentissage obtenus pour chaque modele ?"
      ]
    },
    {
      "cell_type": "code",
      "execution_count": 18,
      "id": "4ef7b50a",
      "metadata": {
        "id": "4ef7b50a"
      },
      "outputs": [],
      "source": [
        "#ici on définit une function MLPClassifier_fun_mdl  qui prend en entrée des données et puis performe un MLPClassifier \n",
        "# argument : hidden_layer_sizes = Nbr_HL, solver = solver_fun , max_iter = iter_num\n",
        "import time\n",
        "from sklearn.model_selection import cross_val_score\n",
        "\n",
        "#-- Apprentissage\n",
        "def MLPClassifier_fun_mdl (Nbr_HL, solver_fun , iter_num,X_train, y_train,X_test ) :\n",
        "\n",
        "  mlp = MLPClassifier(hidden_layer_sizes = Nbr_HL, solver = solver_fun , max_iter = iter_num)\n",
        "  mlp.fit(X_train, y_train)\n",
        "  predictions = mlp.predict_proba(X_test)\n",
        "  train_score = mlp.score(X_train, y_train)\n",
        "  accuracies = cross_val_score(estimator = mlp, X = X_train, y = y_train, cv = 10)\n",
        "  return accuracies.mean(), accuracies.std()\n"
      ]
    },
    {
      "cell_type": "markdown",
      "source": [
        "\n",
        "\n",
        "*   3.comparer les résultats avec une classifieur à noyau de type `SVM` avec noyaux polynomial : **clsvm = svm.SVC(kernel=’poly’).**\n",
        "\n",
        "\n",
        "\n"
      ],
      "metadata": {
        "id": "Ssv0bXCl6QSu"
      },
      "id": "Ssv0bXCl6QSu"
    },
    {
      "cell_type": "code",
      "source": [
        "#ici on définit une function SVM_fun  qui prend en entrée des données et puis performe un SVM \n",
        "\n",
        "from sklearn.svm import SVC\n",
        "\n",
        "def SVM_Fuc_poly (X_train,y_train, X_test): \n",
        "  classifier = SVC(kernel = 'poly', random_state = 0)\n",
        "#Fit the model for the data\n",
        "  classifier.fit(X_train, y_train)\n",
        "#Make the prediction\n",
        "  y_pred1 = classifier.predict(X_test)\n",
        "  accuracies = cross_val_score(estimator = classifier, X = X_train, y = y_train, cv = 10)\n",
        "  print(\"Accuracy of A SVM model: {:.2f} %\".format(accuracies.mean()*100))\n",
        "  print(\"Standard Deviation of A SVM model: {:.2f} %\".format(accuracies.std()*100))\n",
        "  return accuracies.mean(), accuracies.std()"
      ],
      "metadata": {
        "id": "JbwWoAHj573-"
      },
      "id": "JbwWoAHj573-",
      "execution_count": 19,
      "outputs": []
    },
    {
      "cell_type": "code",
      "source": [
        "from sklearn.preprocessing import StandardScaler\n",
        "def normalize_data(X ):\n",
        "  scaler = StandardScaler()\n",
        "  scaler.fit(X)\n",
        " \n",
        "  X_train = scaler.transform(X)\n",
        "  return X_train\n",
        "  "
      ],
      "metadata": {
        "id": "p5gfWtWwE0kv"
      },
      "id": "p5gfWtWwE0kv",
      "execution_count": 20,
      "outputs": []
    },
    {
      "cell_type": "markdown",
      "source": [
        "\n",
        "Déterminez, pour chaque attribut d’entrées, sa valeur moyenne et l'écart-type de sa distribution.\n",
        "Une astuce classique lorsque l’on programme des réseaux de neurones, est de précéder l’apprentissage\n",
        "du modéle par la normalisation des valeurs d’entrées. Le principe est de ramener toutes les entr«ees\n",
        "dans un mˆeme intervalle ferm«e, tout en respectant les distributions de probabilit«es de ces entr«ees. Ce\n",
        "processus de normalisation permet de consid«erer toutes ces valeurs ‘a «egale importance. Attention,\n",
        "la normalisation doit se faire autant sur les donn«ees d’apprentissage que sur les donn«ees de test\n",
        "*   Normalisé les données \n",
        "\n"
      ],
      "metadata": {
        "id": "XatmZiR07gbZ"
      },
      "id": "XatmZiR07gbZ"
    },
    {
      "cell_type": "code",
      "source": [
        "from sklearn.preprocessing import StandardScaler\n",
        "\n",
        "\n",
        "#before normalizing \n",
        "SVM_Fuc_poly(X_train,y_train,X_test)\n",
        "#MLPClassifier_fun_mdl\n",
        "Nbr_HL, solver_fun , iter_num,X_train, y_train  =  (10,100,25,250,10), 'sgd', 1000, X_train,y_train\n",
        "\n",
        "Nbr_HL, solver_fun , iter_num,X_train, y_train  =  (10,100,25,250,10), 'sgd', 1000, X_train,y_train\n",
        "accuracy_mdl1, std_mdl1 = MLPClassifier_fun_mdl(Nbr_HL, solver_fun , iter_num,X_train, y_train, X_test )\n",
        "print(\"Accuracy_model_one: {:.2f} %\".format(accuracy_mdl1*100))\n",
        "print(\"Standard Deviation_model_one: {:.2f} %\".format(std_mdl1*100))\n",
        "\n",
        "\n"
      ],
      "metadata": {
        "id": "edimpC6l8TFR",
        "outputId": "d436c2d2-4564-44c9-8ce8-7d21f6658cd7",
        "colab": {
          "base_uri": "https://localhost:8080/"
        }
      },
      "id": "edimpC6l8TFR",
      "execution_count": 21,
      "outputs": [
        {
          "output_type": "stream",
          "name": "stdout",
          "text": [
            "Accuracy of A SVM model: 97.50 %\n",
            "Standard Deviation of A SVM model: 7.50 %\n"
          ]
        },
        {
          "output_type": "stream",
          "name": "stderr",
          "text": [
            "/usr/local/lib/python3.7/dist-packages/sklearn/neural_network/_multilayer_perceptron.py:696: ConvergenceWarning: Stochastic Optimizer: Maximum iterations (1000) reached and the optimization hasn't converged yet.\n",
            "  ConvergenceWarning,\n",
            "/usr/local/lib/python3.7/dist-packages/sklearn/neural_network/_multilayer_perceptron.py:696: ConvergenceWarning: Stochastic Optimizer: Maximum iterations (1000) reached and the optimization hasn't converged yet.\n",
            "  ConvergenceWarning,\n"
          ]
        },
        {
          "output_type": "stream",
          "name": "stdout",
          "text": [
            "Accuracy_model_one: 98.00 %\n",
            "Standard Deviation_model_one: 6.00 %\n"
          ]
        }
      ]
    },
    {
      "cell_type": "code",
      "source": [
        "#normalize data \n",
        "X_train_normlized = normalize_data(X_train)\n",
        "X_test_normlized = normalize_data(X_test)\n",
        "\n",
        "\n",
        "#SVM \n",
        "SVM_Fuc_poly(X_train_normlized,y_train,X_test_normlized)\n",
        "\n",
        "#param initiation\n",
        "#MLPClassifier_fun_mdl\n",
        "\n",
        "#model_1 : Nbr_HL = (10,100,25,250,10)\n",
        "accuracy_mdl1, std_mdl1 = MLPClassifier_fun_mdl(Nbr_HL, solver_fun , iter_num,X_train_normlized, y_train, X_test_normlized )\n",
        "print(\"Accuracy_model_one: {:.2f} %\".format(accuracy_mdl1*100))\n",
        "print(\"Standard Deviation_model_one: {:.2f} %\".format(std_mdl1*100))\n",
        "#model_2 : Nbr_HL = (50,150,25,50,10)\n",
        "Nbr_HL = (50,150,25,50,10)\n",
        "accuracy_mdl2, std_mdl2 = MLPClassifier_fun_mdl(Nbr_HL, solver_fun , iter_num,X_train_normlized, y_train, X_test_normlized )\n",
        "print(\"Accuracy_model_two: {:.2f} %\".format(accuracy_mdl2*100))\n",
        "print(\"Standard Deviation_model_two: {:.2f} %\".format(std_mdl2*100))\n",
        "#model_3 : Nbr_HL = (50,150,25,50,10)\n",
        "Nbr_HL = (10,150,250,100,10)\n",
        "accuracy_mdl3, std_mdl3 = MLPClassifier_fun_mdl(Nbr_HL, solver_fun , iter_num,X_train_normlized, y_train, X_test_normlized )\n",
        "print(\"Accuracy_model_tree: {:.2f} %\".format(accuracy_mdl3*100))\n",
        "print(\"Standard Deviation_model_tree: {:.2f} %\".format(std_mdl3*100))\n",
        "#model_4 : Nbr_HL = (50,100,250,50,100)\n",
        "Nbr_HL = (50,100,250,50,100)\n",
        "accuracy_mdl4, std_mdl4 = MLPClassifier_fun_mdl(Nbr_HL, solver_fun , iter_num,X_train_normlized, y_train, X_test_normlized )\n",
        "print(\"Accuracy_model_four: {:.2f} %\".format(accuracy_mdl4*100))\n",
        "print(\"Standard Deviation_model_four: {:.2f} %\".format(std_mdl4*100))\n",
        "#Model_5 : Nbr_HL = (100,150,200,150,100)\n",
        "Nbr_HL = (100,150,200,150,100)\n",
        "accuracy_mdl5, std_mdl5 = MLPClassifier_fun_mdl(Nbr_HL, solver_fun , iter_num,X_train_normlized, y_train , X_test_normlized)\n",
        "print(\"Accuracy_model_five: {:.2f} %\".format(accuracy_mdl5*100))\n",
        "print(\"Standard Deviation_model_five: {:.2f} %\".format(std_mdl5*100))"
      ],
      "metadata": {
        "id": "2ZTK8qMBMw_i",
        "outputId": "2fece6c1-16bd-469d-b18c-529ab8a95bd2",
        "colab": {
          "base_uri": "https://localhost:8080/"
        }
      },
      "id": "2ZTK8qMBMw_i",
      "execution_count": 22,
      "outputs": [
        {
          "output_type": "stream",
          "name": "stdout",
          "text": [
            "Accuracy of A SVM model: 93.50 %\n",
            "Standard Deviation of A SVM model: 10.01 %\n"
          ]
        },
        {
          "output_type": "stream",
          "name": "stderr",
          "text": [
            "/usr/local/lib/python3.7/dist-packages/sklearn/neural_network/_multilayer_perceptron.py:696: ConvergenceWarning: Stochastic Optimizer: Maximum iterations (1000) reached and the optimization hasn't converged yet.\n",
            "  ConvergenceWarning,\n",
            "/usr/local/lib/python3.7/dist-packages/sklearn/neural_network/_multilayer_perceptron.py:696: ConvergenceWarning: Stochastic Optimizer: Maximum iterations (1000) reached and the optimization hasn't converged yet.\n",
            "  ConvergenceWarning,\n",
            "/usr/local/lib/python3.7/dist-packages/sklearn/neural_network/_multilayer_perceptron.py:696: ConvergenceWarning: Stochastic Optimizer: Maximum iterations (1000) reached and the optimization hasn't converged yet.\n",
            "  ConvergenceWarning,\n",
            "/usr/local/lib/python3.7/dist-packages/sklearn/neural_network/_multilayer_perceptron.py:696: ConvergenceWarning: Stochastic Optimizer: Maximum iterations (1000) reached and the optimization hasn't converged yet.\n",
            "  ConvergenceWarning,\n",
            "/usr/local/lib/python3.7/dist-packages/sklearn/neural_network/_multilayer_perceptron.py:696: ConvergenceWarning: Stochastic Optimizer: Maximum iterations (1000) reached and the optimization hasn't converged yet.\n",
            "  ConvergenceWarning,\n",
            "/usr/local/lib/python3.7/dist-packages/sklearn/neural_network/_multilayer_perceptron.py:696: ConvergenceWarning: Stochastic Optimizer: Maximum iterations (1000) reached and the optimization hasn't converged yet.\n",
            "  ConvergenceWarning,\n",
            "/usr/local/lib/python3.7/dist-packages/sklearn/neural_network/_multilayer_perceptron.py:696: ConvergenceWarning: Stochastic Optimizer: Maximum iterations (1000) reached and the optimization hasn't converged yet.\n",
            "  ConvergenceWarning,\n",
            "/usr/local/lib/python3.7/dist-packages/sklearn/neural_network/_multilayer_perceptron.py:696: ConvergenceWarning: Stochastic Optimizer: Maximum iterations (1000) reached and the optimization hasn't converged yet.\n",
            "  ConvergenceWarning,\n",
            "/usr/local/lib/python3.7/dist-packages/sklearn/neural_network/_multilayer_perceptron.py:696: ConvergenceWarning: Stochastic Optimizer: Maximum iterations (1000) reached and the optimization hasn't converged yet.\n",
            "  ConvergenceWarning,\n",
            "/usr/local/lib/python3.7/dist-packages/sklearn/neural_network/_multilayer_perceptron.py:696: ConvergenceWarning: Stochastic Optimizer: Maximum iterations (1000) reached and the optimization hasn't converged yet.\n",
            "  ConvergenceWarning,\n"
          ]
        },
        {
          "output_type": "stream",
          "name": "stdout",
          "text": [
            "Accuracy_model_one: 97.50 %\n",
            "Standard Deviation_model_one: 7.50 %\n"
          ]
        },
        {
          "output_type": "stream",
          "name": "stderr",
          "text": [
            "/usr/local/lib/python3.7/dist-packages/sklearn/neural_network/_multilayer_perceptron.py:696: ConvergenceWarning: Stochastic Optimizer: Maximum iterations (1000) reached and the optimization hasn't converged yet.\n",
            "  ConvergenceWarning,\n",
            "/usr/local/lib/python3.7/dist-packages/sklearn/neural_network/_multilayer_perceptron.py:696: ConvergenceWarning: Stochastic Optimizer: Maximum iterations (1000) reached and the optimization hasn't converged yet.\n",
            "  ConvergenceWarning,\n",
            "/usr/local/lib/python3.7/dist-packages/sklearn/neural_network/_multilayer_perceptron.py:696: ConvergenceWarning: Stochastic Optimizer: Maximum iterations (1000) reached and the optimization hasn't converged yet.\n",
            "  ConvergenceWarning,\n",
            "/usr/local/lib/python3.7/dist-packages/sklearn/neural_network/_multilayer_perceptron.py:696: ConvergenceWarning: Stochastic Optimizer: Maximum iterations (1000) reached and the optimization hasn't converged yet.\n",
            "  ConvergenceWarning,\n"
          ]
        },
        {
          "output_type": "stream",
          "name": "stdout",
          "text": [
            "Accuracy_model_two: 98.00 %\n",
            "Standard Deviation_model_two: 6.00 %\n"
          ]
        },
        {
          "output_type": "stream",
          "name": "stderr",
          "text": [
            "/usr/local/lib/python3.7/dist-packages/sklearn/neural_network/_multilayer_perceptron.py:696: ConvergenceWarning: Stochastic Optimizer: Maximum iterations (1000) reached and the optimization hasn't converged yet.\n",
            "  ConvergenceWarning,\n",
            "/usr/local/lib/python3.7/dist-packages/sklearn/neural_network/_multilayer_perceptron.py:696: ConvergenceWarning: Stochastic Optimizer: Maximum iterations (1000) reached and the optimization hasn't converged yet.\n",
            "  ConvergenceWarning,\n",
            "/usr/local/lib/python3.7/dist-packages/sklearn/neural_network/_multilayer_perceptron.py:696: ConvergenceWarning: Stochastic Optimizer: Maximum iterations (1000) reached and the optimization hasn't converged yet.\n",
            "  ConvergenceWarning,\n",
            "/usr/local/lib/python3.7/dist-packages/sklearn/neural_network/_multilayer_perceptron.py:696: ConvergenceWarning: Stochastic Optimizer: Maximum iterations (1000) reached and the optimization hasn't converged yet.\n",
            "  ConvergenceWarning,\n"
          ]
        },
        {
          "output_type": "stream",
          "name": "stdout",
          "text": [
            "Accuracy_model_tree: 98.00 %\n",
            "Standard Deviation_model_tree: 6.00 %\n",
            "Accuracy_model_four: 98.00 %\n",
            "Standard Deviation_model_four: 6.00 %\n",
            "Accuracy_model_five: 98.00 %\n",
            "Standard Deviation_model_five: 6.00 %\n"
          ]
        }
      ]
    },
    {
      "cell_type": "code",
      "source": [
        "from sklearn.model_selection import GridSearchCV\n",
        "parameter = {\n",
        "                        'hidden_layer_sizes': [(50,50,50), (50,100,50)],\n",
        "                        'activation': ['tanh', 'relu'],\n",
        "                        'solver': ['sgd', 'adam', 'L-BFGS' ],\n",
        "                        'alpha': [0.0001, 0.05],\n",
        "                        'learning_rate_init': [0.5,0.1, 0.01, 0.001],\n",
        "                        'max_iter': [100,200,250,1000]\n",
        "                        }\n",
        "clf=MLPClassifier()\n",
        "qlf=GridSearchCV (clf, parameter, n_jobs=-1, cv=8)\n",
        "qlf.fit(X_train, y_train)\n",
        "print (qlf.best_params_)"
      ],
      "metadata": {
        "id": "if5pUF_ZMkNW"
      },
      "id": "if5pUF_ZMkNW",
      "execution_count": null,
      "outputs": []
    },
    {
      "cell_type": "code",
      "source": [],
      "metadata": {
        "id": "5BhlFPT-Z0gm"
      },
      "id": "5BhlFPT-Z0gm",
      "execution_count": null,
      "outputs": []
    },
    {
      "cell_type": "markdown",
      "source": [
        "## 2 Travail sur le jeu de données MNIST\n"
      ],
      "metadata": {
        "id": "mvmXX8Mo9rCb"
      },
      "id": "mvmXX8Mo9rCb"
    },
    {
      "cell_type": "code",
      "source": [
        "#importer les données \n",
        "import warnings\n",
        "from sklearn.datasets import fetch_openml\n",
        "from sklearn.neural_network import MLPClassifier\n",
        "from sklearn.model_selection import train_test_split, GridSearchCV\n",
        "import pandas as pd\n",
        "\n",
        "warnings.simplefilter(\"ignore\")\n",
        "df = fetch_openml(\"mnist_784\")"
      ],
      "metadata": {
        "id": "xKaJ26lc_QX5"
      },
      "execution_count": null,
      "outputs": [],
      "id": "xKaJ26lc_QX5"
    },
    {
      "cell_type": "code",
      "source": [
        "# afficher les données \n",
        "df.data.head()"
      ],
      "metadata": {
        "id": "dJ2hN0t-EXcZ"
      },
      "execution_count": null,
      "outputs": [],
      "id": "dJ2hN0t-EXcZ"
    },
    {
      "cell_type": "code",
      "source": [
        "# afficher les données \n",
        "lotImage = df.data.to_numpy()\n",
        "\n",
        "for i in range(4):\n",
        "    plt.imshow((lotImage[i].reshape(28,28)))\n",
        "    plt.show()"
      ],
      "metadata": {
        "id": "po4LzGvFEwoN"
      },
      "execution_count": null,
      "outputs": [],
      "id": "po4LzGvFEwoN"
    },
    {
      "cell_type": "markdown",
      "source": [
        "## Créer le module"
      ],
      "metadata": {
        "id": "MmFM8ZZ0H7gG"
      },
      "id": "MmFM8ZZ0H7gG"
    },
    {
      "cell_type": "code",
      "source": [
        "import time \n",
        "from sklearn.metrics import accuracy_score\n",
        "\n",
        "X_train = df.data[:60000]\n",
        "X_test = df.data[60000:]\n",
        "y_train = df.target[:60000]\n",
        "y_test = df.target[60000:]"
      ],
      "metadata": {
        "id": "ksRZn8QLHdRA"
      },
      "execution_count": null,
      "outputs": [],
      "id": "ksRZn8QLHdRA"
    },
    {
      "cell_type": "code",
      "source": [
        "start_time = time.time()\n",
        "mlp = MLPClassifier()\n",
        "mlp.fit(X_train, y_train)\n",
        "prediction = mlp.predict(X_test)\n",
        "print(accuracy_score(y_test, prediction))\n",
        "print(\"--- %s seconds ---\" % (time.time() - start_time))"
      ],
      "metadata": {
        "id": "qghDX12xI1uh"
      },
      "execution_count": null,
      "outputs": [],
      "id": "qghDX12xI1uh"
    },
    {
      "cell_type": "code",
      "source": [
        "scaler = StandardScaler()\n",
        "X_train_scaler = scaler.fit_transform(X_train)\n",
        "X_test_scaler = scaler.fit_transform(X_test)\n",
        "\n",
        "start_time = time.time()\n",
        "mlp = MLPClassifier()\n",
        "mlp.fit(X_train_scaler, y_train)\n",
        "prediction = mlp.predict(X_test_scaler)\n",
        "print(accuracy_score(y_test, prediction))\n",
        "print(\"--- %s seconds ---\" % (time.time() - start_time))"
      ],
      "metadata": {
        "id": "1AszmQTZIyoV"
      },
      "execution_count": null,
      "outputs": [],
      "id": "1AszmQTZIyoV"
    },
    {
      "cell_type": "code",
      "source": [
        "parametres = {'hidden_layer_sizes':[(50,),(50,50),(50,50,50)],\n",
        "             'activation':[\"identity\",\"logistic\",\"tanh\",\"relu\"],\n",
        "             'solver':[\"lbfgs\",\"sgd\",\"adam\"],\n",
        "             'alpha':[0.0000001,0.000001,0.00001,0.0001,0.001,0.01,0.1],\n",
        "             'learning_rate':[\"constant\",\"invscaling\",\"adaptive\"]}\n",
        "\n",
        "mlp_clf = MLPClassifier()\n",
        "gridS_mlp = GridSearchCV(mlp_clf, parametres, cv=3, n_jobs=4)\n",
        "gridS_mlp.fit(X_train_scaler, y_train)\n",
        "\n",
        "\n",
        "print(gridS_mlp.best_params_)"
      ],
      "metadata": {
        "id": "dE2P1OaHJCwv"
      },
      "execution_count": null,
      "outputs": [],
      "id": "dE2P1OaHJCwv"
    },
    {
      "cell_type": "code",
      "source": [
        "start_time = time.time()\n",
        "mlp = MLPClassifier(hidden_layer_sizes = (50, 50), activation=\"relu\", solver=\"adam\",alpha =0.1 ,learning_rate = \"adaptive\")\n",
        "mlp.fit(X_train_scaler, y_train)\n",
        "prediction = mlp.predict(X_test_scaler)\n",
        "print(accuracy_score(y_test, prediction))\n",
        "print(\"--- %s seconds ---\" % (time.time() - start_time))"
      ],
      "metadata": {
        "id": "x1lak6MAJD7c"
      },
      "execution_count": null,
      "outputs": [],
      "id": "x1lak6MAJD7c"
    },
    {
      "cell_type": "code",
      "source": [
        "MaximumScore = 0\n",
        "\n",
        "for i in range(0,10):\n",
        "\n",
        "    start_time = time.time()\n",
        "    mlp = MLPClassifier(hidden_layer_sizes = (100, 100), activation=\"relu\", solver=\"adam\",alpha =0.1 ,learning_rate = \"adaptive\")\n",
        "    mlp.fit(X_train_scaler, y_train)\n",
        "    prediction = mlp.predict(X_test_scaler)\n",
        "    \n",
        "    if MaximumScore < accuracy_score(y_test, prediction):\n",
        "        MaximumScore = accuracy_score(y_test, prediction)\n",
        "        tempsExec = time.time() - start_time\n",
        "        print(accuracy_score(y_test, prediction))\n",
        "        print(\"--- %s seconds ---\" % (time.time() - start_time))"
      ],
      "metadata": {
        "id": "uZVqooQmJYe9"
      },
      "execution_count": null,
      "outputs": [],
      "id": "uZVqooQmJYe9"
    },
    {
      "cell_type": "code",
      "source": [
        "start_time = time.time()\n",
        "mlp=MLPClassifier(solver='adam',random_state=1, max_iter=100, hidden_layer_sizes=(500,),alpha=1e-6)\n",
        "mlp.fit(X_train_scaler, y_train)\n",
        "prediction = mlp.predict(X_test_scaler)\n",
        "print(accuracy_score(y_test, prediction))\n",
        "print(\"--- %s seconds ---\" % (time.time() - start_time))"
      ],
      "metadata": {
        "id": "YXiRYEXCJZbI"
      },
      "execution_count": null,
      "outputs": [],
      "id": "YXiRYEXCJZbI"
    }
  ],
  "metadata": {
    "kernelspec": {
      "display_name": "Python 3 (ipykernel)",
      "language": "python",
      "name": "python3"
    },
    "language_info": {
      "codemirror_mode": {
        "name": "ipython",
        "version": 3
      },
      "file_extension": ".py",
      "mimetype": "text/x-python",
      "name": "python",
      "nbconvert_exporter": "python",
      "pygments_lexer": "ipython3",
      "version": "3.9.7"
    },
    "colab": {
      "provenance": []
    }
  },
  "nbformat": 4,
  "nbformat_minor": 5
}